{
 "cells": [
  {
   "cell_type": "code",
   "execution_count": 15,
   "id": "ce483ada",
   "metadata": {},
   "outputs": [],
   "source": [
    "import os\n",
    "import math\n",
    "import random\n",
    "from pathlib import Path\n",
    "from typing import List\n",
    "\n",
    "import numpy as np\n",
    "import pandas as pd\n",
    "from PIL import Image\n",
    "from tqdm import tqdm\n",
    "\n",
    "import torch\n",
    "import torch.nn as nn\n",
    "import torch.nn.functional as F\n",
    "from torch.utils.data import Dataset, DataLoader, WeightedRandomSampler\n",
    "import torchvision.transforms as T\n",
    "from sklearn.model_selection import train_test_split\n",
    "from sklearn.metrics import roc_auc_score"
   ]
  },
  {
   "cell_type": "code",
   "execution_count": 16,
   "id": "feb7262a",
   "metadata": {},
   "outputs": [
    {
     "name": "stdout",
     "output_type": "stream",
     "text": [
      "Device: cuda\n"
     ]
    }
   ],
   "source": [
    "# ========== USER CONFIG ==========\n",
    "# DATA_DIR now accepts a list of paths\n",
    "DATA_DIRS = [\n",
    "    r\"C:\\new pc\\Machine learning\\CelebA dataset\\My dataset\\mix images\",\n",
    "    r\"C:\\new pc\\Machine learning\\CelebA dataset\\My dataset\\celebrity images\"  # <-- new path for the second image folder\n",
    "]\n",
    "# CSV_PATH now accepts a list of paths\n",
    "CSV_PATHS = [\n",
    "    r\"C:\\new pc\\Machine learning\\CelebA dataset\\My dataset\\attributes.csv\",\n",
    "    r\"C:\\new pc\\Machine learning\\CelebA dataset\\My dataset\\Celebrity_images_attributes.csv\" # <-- new path for the second CSV file\n",
    "]\n",
    "FILENAME_COL = \"image_id\"    # <-- column with image filenames\n",
    "# List attribute column names (31 attributes). Replace with your CSV's columns if different.\n",
    "ATTRIBUTES = [\n",
    "    \"attractive\", \"blurry_image\", \"sharp_jawline\", \"high_cheekbones\", \"smiling\", \"bald\", \"receeding_hairline\", \"long_hair\", \"curly_hair\",\"grey_hair\",\n",
    "    \"black_hair\", \"has_beard\", \"patchy_beard\", \"has_mustache\", \"well_groomed\", \"has_makeup\", \"wearing_glasses\", \"wearing_hat\", \"clear_skin\",\n",
    "    \"dark_circles\", \"oily_skin\", \"thick_eyebrow\", \"big_eyes\", \"big_lips\", \"sharp_nose\", \"adult\", \"old\", \"mouth_open\", \"male\", \"double_chin\", \"veil\",\n",
    "    \"dry_skin\", \"freckle\", \"wrinkle\", \"chubby\"\n",
    "    ]\n",
    "IMG_SIZE = 224\n",
    "BATCH_SIZE = 16\n",
    "NUM_WORKERS = 0\n",
    "NUM_EPOCHS = 20\n",
    "SEED = 42\n",
    "MODEL_SAVE_PATH = \"convnext_tiny_celeb.pth\"\n",
    "\n",
    "# Backbone choices: \"convnext_tiny\", \"convnextv2_tiny\", \"vit_base_patch16_224\"\n",
    "BACKBONE = \"convnext_tiny\"\n",
    "USE_TIMM = True\n",
    "LR_HEAD = 1e-4\n",
    "LR_BACKBONE = 1e-5\n",
    "WEIGHT_DECAY = 1e-4\n",
    "FREEZE_EPOCHS = 2\n",
    "# ==================================\n",
    "\n",
    "# reproducibility\n",
    "torch.manual_seed(SEED)\n",
    "np.random.seed(SEED)\n",
    "random.seed(SEED)\n",
    "\n",
    "device = torch.device(\"cuda\" if torch.cuda.is_available() else \"cpu\")\n",
    "print(\"Device:\", device)"
   ]
  },
  {
   "cell_type": "code",
   "execution_count": 17,
   "id": "3d737eac",
   "metadata": {},
   "outputs": [],
   "source": [
    "# ======== Utility functions ========\n",
    "def read_csv(csv_path):\n",
    "    df = pd.read_csv(csv_path)\n",
    "    missing_cols = [c for c in [FILENAME_COL] + ATTRIBUTES if c not in df.columns]\n",
    "    if missing_cols:\n",
    "        raise ValueError(f\"Missing columns in CSV: {missing_cols}\")\n",
    "    return df\n",
    "\n",
    "class FacesDataset(Dataset):\n",
    "    def __init__(self, df, img_dirs: List[str], attr_cols: List[str], transforms=None):\n",
    "        self.df = df.reset_index(drop=True)\n",
    "        # Store a list of Path objects for the image directories\n",
    "        self.img_dirs = [Path(d) for d in img_dirs]\n",
    "        self.attr_cols = attr_cols\n",
    "        self.transforms = transforms\n",
    "\n",
    "    def __len__(self):\n",
    "        return len(self.df)\n",
    "\n",
    "    def __getitem__(self, idx):\n",
    "        row = self.df.iloc[idx]\n",
    "        img_name = row[FILENAME_COL]\n",
    "        img_path = None\n",
    "        \n",
    "        # Check each directory for the image file\n",
    "        for img_dir in self.img_dirs:\n",
    "            potential_path = img_dir / img_name\n",
    "            if potential_path.exists():\n",
    "                img_path = potential_path\n",
    "                break\n",
    "        \n",
    "        if img_path is None:\n",
    "            raise FileNotFoundError(f\"Image {img_name} not found in any of the specified directories.\")\n",
    "            \n",
    "        img = Image.open(img_path).convert(\"RGB\")\n",
    "        if self.transforms:\n",
    "            img = self.transforms(img)\n",
    "        attrs = torch.tensor(row[self.attr_cols].values.astype(np.float32))\n",
    "        return img, attrs\n",
    "def get_transforms(img_size=IMG_SIZE, train=True):\n",
    "    if train:\n",
    "        return T.Compose([\n",
    "            T.RandomResizedCrop(img_size, scale=(0.6, 1.0)),\n",
    "            T.RandomHorizontalFlip(p=0.5),\n",
    "            T.RandomRotation(12),\n",
    "            T.ColorJitter(brightness=0.2, contrast=0.2, saturation=0.2, hue=0.02),\n",
    "            T.ToTensor(),\n",
    "            T.Normalize(mean=[0.485,0.456,0.406], std=[0.229,0.224,0.225]),\n",
    "            T.RandomErasing(p=0.2, scale=(0.02,0.25), ratio=(0.3, 3.3), value='random')\n",
    "        ])\n",
    "    else:\n",
    "        return T.Compose([\n",
    "            T.Resize(int(img_size*1.14)),\n",
    "            T.CenterCrop(img_size),\n",
    "            T.ToTensor(),\n",
    "            T.Normalize(mean=[0.485,0.456,0.406], std=[0.229,0.224,0.225]),\n",
    "        ])"
   ]
  },
  {
   "cell_type": "code",
   "execution_count": 18,
   "id": "6dc0bcb6",
   "metadata": {},
   "outputs": [
    {
     "name": "stdout",
     "output_type": "stream",
     "text": [
      "Train: 7832 | Val: 1678 | Test: 1679\n"
     ]
    }
   ],
   "source": [
    "# ======== Prepare data ========\n",
    "df_list = []\n",
    "for csv_path in CSV_PATHS:\n",
    "    df_list.append(read_csv(csv_path))\n",
    "df = pd.concat(df_list, ignore_index=True)\n",
    "\n",
    "# Convert -1/1 labels to 0/1\n",
    "for c in ATTRIBUTES:\n",
    "    if set(df[c].unique()) <= {-1, 1}:\n",
    "        df[c] = df[c].apply(lambda x: 1 if x == 1 else 0)\n",
    "\n",
    "# Split: 70% train, 15% val, 15% test\n",
    "train_df, temp_df = train_test_split(df, test_size=0.3, random_state=SEED, shuffle=True)\n",
    "val_df, test_df = train_test_split(temp_df, test_size=0.5, random_state=SEED, shuffle=True)\n",
    "train_ds = FacesDataset(train_df, DATA_DIRS, ATTRIBUTES, transforms=get_transforms(train=True))\n",
    "val_ds = FacesDataset(val_df, DATA_DIRS, ATTRIBUTES, transforms=get_transforms(train=False))\n",
    "test_ds = FacesDataset(test_df, DATA_DIRS, ATTRIBUTES, transforms=get_transforms(train=False))\n",
    "\n",
    "# Weighted sampler for training\n",
    "pos_freq = train_df[ATTRIBUTES].sum(axis=0).values\n",
    "n_samples = len(train_df)\n",
    "pos_freq = np.where(pos_freq == 0, 1, pos_freq)\n",
    "inv_freq = n_samples / (pos_freq * len(ATTRIBUTES))\n",
    "sample_weights = []\n",
    "for _, row in train_df[ATTRIBUTES].iterrows():\n",
    "    labels = row.values\n",
    "    w = (labels * inv_freq).sum()\n",
    "    sample_weights.append(float(w) if w > 0 else 0.5)\n",
    "sample_weights = np.array(sample_weights)\n",
    "sampler = WeightedRandomSampler(sample_weights, num_samples=len(sample_weights), replacement=True)\n",
    "\n",
    "train_loader = DataLoader(train_ds, batch_size=BATCH_SIZE, sampler=sampler,\n",
    "                          num_workers=NUM_WORKERS, pin_memory=True)\n",
    "val_loader = DataLoader(val_ds, batch_size=BATCH_SIZE, shuffle=False,\n",
    "                        num_workers=NUM_WORKERS, pin_memory=True)\n",
    "test_loader = DataLoader(test_ds, batch_size=BATCH_SIZE, shuffle=False,\n",
    "                         num_workers=NUM_WORKERS, pin_memory=True)\n",
    "\n",
    "print(f\"Train: {len(train_ds)} | Val: {len(val_ds)} | Test: {len(test_ds)}\")"
   ]
  },
  {
   "cell_type": "code",
   "execution_count": 19,
   "id": "aa470e67",
   "metadata": {},
   "outputs": [],
   "source": [
    "# ======== Model ========\n",
    "def build_model(num_classes: int, backbone=\"convnext_tiny\", pretrained=True, use_timm=True):\n",
    "    backbone = backbone.lower()\n",
    "    if use_timm:\n",
    "        import timm\n",
    "        model = timm.create_model(backbone, pretrained=pretrained, num_classes=num_classes)\n",
    "        return model\n",
    "\n",
    "    raise ValueError(\"Backbone not supported\")\n",
    "\n",
    "model = build_model(len(ATTRIBUTES), backbone=BACKBONE, pretrained=True, use_timm=USE_TIMM)\n",
    "\n",
    "model = model.to(device)"
   ]
  },
  {
   "cell_type": "code",
   "execution_count": 20,
   "id": "99ab6985",
   "metadata": {},
   "outputs": [],
   "source": [
    "# ======== Loss, optimizer, scheduler ========\n",
    "train_pos = train_df[ATTRIBUTES].sum().values\n",
    "train_neg = (len(train_df) - train_pos)\n",
    "pos_weight = torch.tensor(np.where(train_pos==0, 1.0, train_neg / (train_pos + 1e-6)),\n",
    "                          dtype=torch.float32).to(device)\n",
    "\n",
    "def focal_bce_with_logits(logits, targets, pos_weight=None, alpha=0.25, gamma=2.0, reduction='mean'):\n",
    "    if pos_weight is not None:\n",
    "        bce = F.binary_cross_entropy_with_logits(logits, targets, pos_weight=pos_weight, reduction='none')\n",
    "    else:\n",
    "        bce = F.binary_cross_entropy_with_logits(logits, targets, reduction='none')\n",
    "    probs = torch.sigmoid(logits)\n",
    "    p_t = probs * targets + (1 - probs) * (1 - targets)\n",
    "    modulating_factor = (1.0 - p_t) ** gamma\n",
    "    alpha_factor = targets * alpha + (1 - targets) * (1 - alpha)\n",
    "    loss = alpha_factor * modulating_factor * bce\n",
    "    if reduction == 'mean':\n",
    "        return loss.mean()\n",
    "    elif reduction == 'sum':\n",
    "        return loss.sum()\n",
    "    else:\n",
    "        return loss\n",
    "\n",
    "head_keywords = (\"head\", \"fc\", \"classifier\", \"output\", \"ln\", \"norm\")\n",
    "head_params, backbone_params = [], []\n",
    "for name, p in model.named_parameters():\n",
    "    if any(k in name.lower() for k in head_keywords):\n",
    "        head_params.append(p)\n",
    "    else:\n",
    "        backbone_params.append(p)\n",
    "\n",
    "optimizer = torch.optim.AdamW([\n",
    "    {\"params\": head_params, \"lr\": LR_HEAD},\n",
    "    {\"params\": backbone_params, \"lr\": LR_BACKBONE}\n",
    "], weight_decay=WEIGHT_DECAY)\n",
    "\n",
    "scheduler = torch.optim.lr_scheduler.CosineAnnealingLR(optimizer, T_max=NUM_EPOCHS)\n",
    "scaler = torch.amp.GradScaler(device.type, enabled=torch.cuda.is_available())"
   ]
  },
  {
   "cell_type": "code",
   "execution_count": 21,
   "id": "9fad4d16",
   "metadata": {},
   "outputs": [],
   "source": [
    "# ======== Training & evaluation loops ========\n",
    "def train_one_epoch(model, loader, optimizer, scaler, device, epoch):\n",
    "    model.train()\n",
    "    running_loss = 0.0\n",
    "    device_type = device.type\n",
    "    pbar = tqdm(loader, desc=f\"Train E{epoch}\", leave=True, dynamic_ncols=True)\n",
    "    for imgs, labels in pbar:\n",
    "        imgs, labels = imgs.to(device), labels.to(device)\n",
    "        optimizer.zero_grad()\n",
    "        with torch.amp.autocast(device_type=device_type):\n",
    "            outputs = model(imgs)\n",
    "            loss = focal_bce_with_logits(outputs, labels, pos_weight=pos_weight)\n",
    "        scaler.scale(loss).backward()\n",
    "        scaler.unscale_(optimizer)\n",
    "        torch.nn.utils.clip_grad_norm_(model.parameters(), max_norm=1.0)\n",
    "        scaler.step(optimizer)\n",
    "        scaler.update()\n",
    "        running_loss += loss.item() * imgs.size(0)\n",
    "        pbar.set_postfix({\"loss\": running_loss / ((pbar.n + 1) * loader.batch_size)})\n",
    "    return running_loss / len(loader.dataset)\n",
    "\n",
    "@torch.no_grad()\n",
    "def evaluate(model, loader, device, desc=\"Eval\"):\n",
    "    model.eval()\n",
    "    all_targets, all_probs = [], []\n",
    "    total_loss = 0.0\n",
    "    for imgs, labels in tqdm(loader, desc=desc, leave=True, dynamic_ncols=True):\n",
    "        imgs, labels = imgs.to(device), labels.to(device)\n",
    "        with torch.amp.autocast(device_type=device.type):\n",
    "            outputs = model(imgs)\n",
    "        probs = torch.sigmoid(outputs)\n",
    "        loss = focal_bce_with_logits(outputs, labels, pos_weight=pos_weight)\n",
    "        total_loss += loss.item() * imgs.size(0)\n",
    "        all_targets.append(labels.cpu().numpy())\n",
    "        all_probs.append(probs.cpu().numpy())\n",
    "\n",
    "    all_targets = np.vstack(all_targets)\n",
    "    all_probs = np.vstack(all_probs)\n",
    "\n",
    "    # Mean accuracy (for reference)\n",
    "    preds = (all_probs >= 0.5).astype(int)\n",
    "    per_attr_acc = (preds == all_targets).mean(axis=0)\n",
    "    mean_acc = per_attr_acc.mean()\n",
    "\n",
    "    # Mean AUC computation (robust to single-class columns)\n",
    "    per_attr_auc = []\n",
    "    for i in range(all_probs.shape[1]):\n",
    "        y_true = all_targets[:, i]\n",
    "        y_score = all_probs[:, i]\n",
    "        if len(np.unique(y_true)) < 2:\n",
    "            auc = np.nan  # cannot compute AUC for single-class targets\n",
    "        else:\n",
    "            auc = roc_auc_score(y_true, y_score)\n",
    "        per_attr_auc.append(auc)\n",
    "    per_attr_auc = np.array(per_attr_auc)\n",
    "    mean_auc = np.nanmean(per_attr_auc)\n",
    "\n",
    "    return {\n",
    "        \"loss\": total_loss / len(loader.dataset),\n",
    "        \"per_attr_acc\": per_attr_acc,\n",
    "        \"mean_acc\": mean_acc,\n",
    "        \"per_attr_auc\": per_attr_auc,\n",
    "        \"mean_auc\": mean_auc,\n",
    "        \"all_probs\": all_probs,\n",
    "        \"all_targets\": all_targets\n",
    "    }\n"
   ]
  },
  {
   "cell_type": "code",
   "execution_count": 22,
   "id": "b2358457",
   "metadata": {},
   "outputs": [
    {
     "name": "stderr",
     "output_type": "stream",
     "text": [
      "Train E1: 100%|██████████| 490/490 [01:36<00:00,  5.10it/s, loss=0.0708]\n",
      "Val: 100%|██████████| 105/105 [00:07<00:00, 13.19it/s]\n"
     ]
    },
    {
     "name": "stdout",
     "output_type": "stream",
     "text": [
      "Epoch 1/20 | Train loss: 0.0708 | Val loss: 0.0571 | Mean val Acc: 0.8190 |Mean val Auc: 0.9112\n",
      "✅ Saved best model (Mean Acc=0.9112) to convnext_tiny_celeb.pth\n"
     ]
    },
    {
     "name": "stderr",
     "output_type": "stream",
     "text": [
      "Train E2: 100%|██████████| 490/490 [01:37<00:00,  5.00it/s, loss=0.0502]\n",
      "Val: 100%|██████████| 105/105 [00:07<00:00, 13.31it/s]\n"
     ]
    },
    {
     "name": "stdout",
     "output_type": "stream",
     "text": [
      "Epoch 2/20 | Train loss: 0.0502 | Val loss: 0.0521 | Mean val Acc: 0.8737 |Mean val Auc: 0.9227\n",
      "✅ Saved best model (Mean Acc=0.9227) to convnext_tiny_celeb.pth\n"
     ]
    },
    {
     "name": "stderr",
     "output_type": "stream",
     "text": [
      "Train E3: 100%|██████████| 490/490 [01:45<00:00,  4.65it/s, loss=0.0383]\n",
      "Train: 100%|██████████| 490/490 [01:01<00:00,  7.99it/s]\n"
     ]
    },
    {
     "name": "stdout",
     "output_type": "stream",
     "text": [
      "Epoch 3 Train Metrics | Train loss: 0.0383 | Train loss: 0.0369 | Mean Acc Train: 0.9022 | Mean Auc Train: 0.9626\n"
     ]
    },
    {
     "name": "stderr",
     "output_type": "stream",
     "text": [
      "Val: 100%|██████████| 105/105 [00:07<00:00, 13.16it/s]\n"
     ]
    },
    {
     "name": "stdout",
     "output_type": "stream",
     "text": [
      "Epoch 3/20 | Train loss: 0.0383 | Val loss: 0.0556 | Mean val Acc: 0.8855 |Mean val Auc: 0.9297\n",
      "✅ Saved best model (Mean Acc=0.9297) to convnext_tiny_celeb.pth\n"
     ]
    },
    {
     "name": "stderr",
     "output_type": "stream",
     "text": [
      "Train E4: 100%|██████████| 490/490 [01:42<00:00,  4.80it/s, loss=0.0336]\n",
      "Val: 100%|██████████| 105/105 [00:07<00:00, 13.28it/s]\n"
     ]
    },
    {
     "name": "stdout",
     "output_type": "stream",
     "text": [
      "Epoch 4/20 | Train loss: 0.0336 | Val loss: 0.0541 | Mean val Acc: 0.8849 |Mean val Auc: 0.9350\n",
      "✅ Saved best model (Mean Acc=0.9350) to convnext_tiny_celeb.pth\n"
     ]
    },
    {
     "name": "stderr",
     "output_type": "stream",
     "text": [
      "Train E5: 100%|██████████| 490/490 [01:41<00:00,  4.81it/s, loss=0.0281]\n",
      "Val: 100%|██████████| 105/105 [00:07<00:00, 13.34it/s]\n"
     ]
    },
    {
     "name": "stdout",
     "output_type": "stream",
     "text": [
      "Epoch 5/20 | Train loss: 0.0281 | Val loss: 0.0638 | Mean val Acc: 0.8857 |Mean val Auc: 0.9331\n"
     ]
    },
    {
     "name": "stderr",
     "output_type": "stream",
     "text": [
      "Train E6: 100%|██████████| 490/490 [01:43<00:00,  4.73it/s, loss=0.0242]\n",
      "Train: 100%|██████████| 490/490 [01:04<00:00,  7.55it/s]\n"
     ]
    },
    {
     "name": "stdout",
     "output_type": "stream",
     "text": [
      "Epoch 6 Train Metrics | Train loss: 0.0242 | Train loss: 0.0222 | Mean Acc Train: 0.9295 | Mean Auc Train: 0.9828\n"
     ]
    },
    {
     "name": "stderr",
     "output_type": "stream",
     "text": [
      "Val: 100%|██████████| 105/105 [00:07<00:00, 13.15it/s]\n"
     ]
    },
    {
     "name": "stdout",
     "output_type": "stream",
     "text": [
      "Epoch 6/20 | Train loss: 0.0242 | Val loss: 0.0624 | Mean val Acc: 0.8894 |Mean val Auc: 0.9346\n"
     ]
    },
    {
     "name": "stderr",
     "output_type": "stream",
     "text": [
      "Train E7: 100%|██████████| 490/490 [01:41<00:00,  4.81it/s, loss=0.0204]\n",
      "Val: 100%|██████████| 105/105 [00:08<00:00, 12.87it/s]\n"
     ]
    },
    {
     "name": "stdout",
     "output_type": "stream",
     "text": [
      "Epoch 7/20 | Train loss: 0.0204 | Val loss: 0.0715 | Mean val Acc: 0.8942 |Mean val Auc: 0.9346\n"
     ]
    },
    {
     "name": "stderr",
     "output_type": "stream",
     "text": [
      "Train E8: 100%|██████████| 490/490 [01:42<00:00,  4.80it/s, loss=0.0175]\n",
      "Val: 100%|██████████| 105/105 [00:08<00:00, 12.95it/s]\n"
     ]
    },
    {
     "name": "stdout",
     "output_type": "stream",
     "text": [
      "Epoch 8/20 | Train loss: 0.0175 | Val loss: 0.0835 | Mean val Acc: 0.9002 |Mean val Auc: 0.9351\n",
      "✅ Saved best model (Mean Acc=0.9351) to convnext_tiny_celeb.pth\n"
     ]
    },
    {
     "name": "stderr",
     "output_type": "stream",
     "text": [
      "Train E9: 100%|██████████| 490/490 [01:42<00:00,  4.78it/s, loss=0.0144]\n",
      "Train: 100%|██████████| 490/490 [01:07<00:00,  7.28it/s]\n"
     ]
    },
    {
     "name": "stdout",
     "output_type": "stream",
     "text": [
      "Epoch 9 Train Metrics | Train loss: 0.0144 | Train loss: 0.0129 | Mean Acc Train: 0.9590 | Mean Auc Train: 0.9929\n"
     ]
    },
    {
     "name": "stderr",
     "output_type": "stream",
     "text": [
      "Val: 100%|██████████| 105/105 [00:07<00:00, 13.13it/s]\n"
     ]
    },
    {
     "name": "stdout",
     "output_type": "stream",
     "text": [
      "Epoch 9/20 | Train loss: 0.0144 | Val loss: 0.0834 | Mean val Acc: 0.9037 |Mean val Auc: 0.9356\n",
      "✅ Saved best model (Mean Acc=0.9356) to convnext_tiny_celeb.pth\n"
     ]
    },
    {
     "name": "stderr",
     "output_type": "stream",
     "text": [
      "Train E10: 100%|██████████| 490/490 [01:44<00:00,  4.69it/s, loss=0.0125]\n",
      "Val: 100%|██████████| 105/105 [00:07<00:00, 13.14it/s]\n"
     ]
    },
    {
     "name": "stdout",
     "output_type": "stream",
     "text": [
      "Epoch 10/20 | Train loss: 0.0125 | Val loss: 0.0951 | Mean val Acc: 0.9065 |Mean val Auc: 0.9335\n"
     ]
    },
    {
     "name": "stderr",
     "output_type": "stream",
     "text": [
      "Train E11: 100%|██████████| 490/490 [01:43<00:00,  4.74it/s, loss=0.0102]\n",
      "Val: 100%|██████████| 105/105 [00:08<00:00, 12.98it/s]\n"
     ]
    },
    {
     "name": "stdout",
     "output_type": "stream",
     "text": [
      "Epoch 11/20 | Train loss: 0.0102 | Val loss: 0.1027 | Mean val Acc: 0.9085 |Mean val Auc: 0.9357\n",
      "✅ Saved best model (Mean Acc=0.9357) to convnext_tiny_celeb.pth\n"
     ]
    },
    {
     "name": "stderr",
     "output_type": "stream",
     "text": [
      "Train E12: 100%|██████████| 490/490 [01:51<00:00,  4.38it/s, loss=0.0088] \n",
      "Train: 100%|██████████| 490/490 [01:14<00:00,  6.61it/s]\n"
     ]
    },
    {
     "name": "stdout",
     "output_type": "stream",
     "text": [
      "Epoch 12 Train Metrics | Train loss: 0.0088 | Train loss: 0.0081 | Mean Acc Train: 0.9745 | Mean Auc Train: 0.9966\n"
     ]
    },
    {
     "name": "stderr",
     "output_type": "stream",
     "text": [
      "Val: 100%|██████████| 105/105 [00:11<00:00,  9.31it/s]\n"
     ]
    },
    {
     "name": "stdout",
     "output_type": "stream",
     "text": [
      "Epoch 12/20 | Train loss: 0.0088 | Val loss: 0.1159 | Mean val Acc: 0.9116 |Mean val Auc: 0.9363\n",
      "✅ Saved best model (Mean Acc=0.9363) to convnext_tiny_celeb.pth\n"
     ]
    },
    {
     "name": "stderr",
     "output_type": "stream",
     "text": [
      "Train E13: 100%|██████████| 490/490 [02:16<00:00,  3.60it/s, loss=0.00741]\n",
      "Val: 100%|██████████| 105/105 [00:10<00:00, 10.19it/s]\n"
     ]
    },
    {
     "name": "stdout",
     "output_type": "stream",
     "text": [
      "Epoch 13/20 | Train loss: 0.0074 | Val loss: 0.1232 | Mean val Acc: 0.9107 |Mean val Auc: 0.9349\n"
     ]
    },
    {
     "name": "stderr",
     "output_type": "stream",
     "text": [
      "Train E14: 100%|██████████| 490/490 [01:49<00:00,  4.48it/s, loss=0.0065] \n",
      "Val: 100%|██████████| 105/105 [00:08<00:00, 13.11it/s]\n"
     ]
    },
    {
     "name": "stdout",
     "output_type": "stream",
     "text": [
      "Epoch 14/20 | Train loss: 0.0065 | Val loss: 0.1099 | Mean val Acc: 0.9105 |Mean val Auc: 0.9366\n",
      "✅ Saved best model (Mean Acc=0.9366) to convnext_tiny_celeb.pth\n"
     ]
    },
    {
     "name": "stderr",
     "output_type": "stream",
     "text": [
      "Train E15: 100%|██████████| 490/490 [01:42<00:00,  4.79it/s, loss=0.00566]\n",
      "Train: 100%|██████████| 490/490 [01:00<00:00,  8.09it/s]\n"
     ]
    },
    {
     "name": "stdout",
     "output_type": "stream",
     "text": [
      "Epoch 15 Train Metrics | Train loss: 0.0057 | Train loss: 0.0055 | Mean Acc Train: 0.9807 | Mean Auc Train: 0.9983\n"
     ]
    },
    {
     "name": "stderr",
     "output_type": "stream",
     "text": [
      "Val: 100%|██████████| 105/105 [00:07<00:00, 13.22it/s]\n"
     ]
    },
    {
     "name": "stdout",
     "output_type": "stream",
     "text": [
      "Epoch 15/20 | Train loss: 0.0057 | Val loss: 0.1291 | Mean val Acc: 0.9121 |Mean val Auc: 0.9354\n"
     ]
    },
    {
     "name": "stderr",
     "output_type": "stream",
     "text": [
      "Train E16: 100%|██████████| 490/490 [01:42<00:00,  4.79it/s, loss=0.00471]\n",
      "Val: 100%|██████████| 105/105 [00:07<00:00, 13.19it/s]\n"
     ]
    },
    {
     "name": "stdout",
     "output_type": "stream",
     "text": [
      "Epoch 16/20 | Train loss: 0.0047 | Val loss: 0.1250 | Mean val Acc: 0.9134 |Mean val Auc: 0.9364\n"
     ]
    },
    {
     "name": "stderr",
     "output_type": "stream",
     "text": [
      "Train E17: 100%|██████████| 490/490 [01:42<00:00,  4.79it/s, loss=0.00457]\n",
      "Val: 100%|██████████| 105/105 [00:07<00:00, 13.26it/s]\n"
     ]
    },
    {
     "name": "stdout",
     "output_type": "stream",
     "text": [
      "Epoch 17/20 | Train loss: 0.0046 | Val loss: 0.1307 | Mean val Acc: 0.9154 |Mean val Auc: 0.9371\n",
      "✅ Saved best model (Mean Acc=0.9371) to convnext_tiny_celeb.pth\n"
     ]
    },
    {
     "name": "stderr",
     "output_type": "stream",
     "text": [
      "Train E18: 100%|██████████| 490/490 [01:42<00:00,  4.78it/s, loss=0.00397]\n",
      "Train: 100%|██████████| 490/490 [01:00<00:00,  8.05it/s]\n"
     ]
    },
    {
     "name": "stdout",
     "output_type": "stream",
     "text": [
      "Epoch 18 Train Metrics | Train loss: 0.0040 | Train loss: 0.0039 | Mean Acc Train: 0.9850 | Mean Auc Train: 0.9990\n"
     ]
    },
    {
     "name": "stderr",
     "output_type": "stream",
     "text": [
      "Val: 100%|██████████| 105/105 [00:08<00:00, 13.09it/s]\n"
     ]
    },
    {
     "name": "stdout",
     "output_type": "stream",
     "text": [
      "Epoch 18/20 | Train loss: 0.0040 | Val loss: 0.1316 | Mean val Acc: 0.9149 |Mean val Auc: 0.9366\n"
     ]
    },
    {
     "name": "stderr",
     "output_type": "stream",
     "text": [
      "Train E19: 100%|██████████| 490/490 [01:42<00:00,  4.78it/s, loss=0.00375]\n",
      "Val: 100%|██████████| 105/105 [00:07<00:00, 13.26it/s]\n"
     ]
    },
    {
     "name": "stdout",
     "output_type": "stream",
     "text": [
      "Epoch 19/20 | Train loss: 0.0038 | Val loss: 0.1347 | Mean val Acc: 0.9153 |Mean val Auc: 0.9368\n"
     ]
    },
    {
     "name": "stderr",
     "output_type": "stream",
     "text": [
      "Train E20: 100%|██████████| 490/490 [01:42<00:00,  4.80it/s, loss=0.0037] \n",
      "Val: 100%|██████████| 105/105 [00:07<00:00, 13.27it/s]"
     ]
    },
    {
     "name": "stdout",
     "output_type": "stream",
     "text": [
      "Epoch 20/20 | Train loss: 0.0037 | Val loss: 0.1347 | Mean val Acc: 0.9153 |Mean val Auc: 0.9367\n",
      "Training completed. Best mean accuracy: 0.9370852391680761\n"
     ]
    },
    {
     "name": "stderr",
     "output_type": "stream",
     "text": [
      "\n"
     ]
    }
   ],
   "source": [
    "best_metric = -1\n",
    "for epoch in range(1, NUM_EPOCHS + 1):\n",
    "    if epoch <= FREEZE_EPOCHS:\n",
    "        for name, param in model.named_parameters():\n",
    "            if any(k in name.lower() for k in head_keywords):\n",
    "                param.requires_grad = True\n",
    "            else:\n",
    "                param.requires_grad = False\n",
    "    else:\n",
    "        for p in model.parameters():\n",
    "            p.requires_grad = True\n",
    "\n",
    "    train_loss = train_one_epoch(model, train_loader, optimizer, scaler, device, epoch)\n",
    "    \n",
    "    if(epoch %3 == 0):\n",
    "        train_metrics = evaluate(model, train_loader, device, desc=\"Train\")\n",
    "        print(f\"Epoch {epoch} Train Metrics | Train loss: {train_loss:.4f} | \"\n",
    "              f\"Train loss: {train_metrics['loss']:.4f} | Mean Acc Train: {train_metrics['mean_acc']:.4f} | Mean Auc Train: {train_metrics['mean_auc']:.4f}\" )\n",
    "    \n",
    "    \n",
    "    val_metrics = evaluate(model, val_loader, device, desc=\"Val\")\n",
    "    scheduler.step()\n",
    "\n",
    "    print(f\"Epoch {epoch}/{NUM_EPOCHS} | Train loss: {train_loss:.4f} | \"\n",
    "          f\"Val loss: {val_metrics['loss']:.4f} | Mean val Acc: {val_metrics['mean_acc']:.4f} |Mean val Auc: {val_metrics['mean_auc']:.4f}\")\n",
    "\n",
    "    # Checkpoint based on mean accuracy\n",
    "    metric_to_check = val_metrics[\"mean_auc\"]\n",
    "    if not math.isnan(metric_to_check) and metric_to_check > best_metric:\n",
    "        best_metric = metric_to_check\n",
    "        torch.save(model.state_dict(), MODEL_SAVE_PATH)\n",
    "        print(f\"✅ Saved best model (Mean Acc={best_metric:.4f}) to {MODEL_SAVE_PATH}\")\n",
    "\n",
    "print(\"Training completed. Best mean accuracy:\", best_metric)"
   ]
  },
  {
   "cell_type": "code",
   "execution_count": 27,
   "id": "56ca7630",
   "metadata": {},
   "outputs": [],
   "source": [
    "torch.save(model.state_dict(), MODEL_SAVE_PATH)"
   ]
  },
  {
   "cell_type": "code",
   "execution_count": 28,
   "id": "44701a5e",
   "metadata": {},
   "outputs": [],
   "source": [
    "# ======== Threshold Tuning on Validation Set ========\n",
    "def tune_thresholds(model, loader, device):\n",
    "    model.eval()\n",
    "    all_targets, all_probs = [], []\n",
    "    with torch.no_grad():\n",
    "        for imgs, labels in tqdm(loader, desc=\"Tuning Thresholds\", leave=False):\n",
    "            imgs = imgs.to(device)\n",
    "            outputs = model(imgs)\n",
    "            probs = torch.sigmoid(outputs).cpu().numpy()\n",
    "            all_probs.append(probs)\n",
    "            all_targets.append(labels.numpy())\n",
    "\n",
    "    all_probs = np.vstack(all_probs)\n",
    "    all_targets = np.vstack(all_targets)\n",
    "\n",
    "    thresholds = np.zeros(all_probs.shape[1])\n",
    "    for i in range(all_probs.shape[1]):\n",
    "        best_th, best_acc = 0.5, 0.0\n",
    "        for th in np.linspace(0.0, 1.0, 101):\n",
    "            preds = (all_probs[:, i] >= th).astype(int)\n",
    "            acc = (preds == all_targets[:, i]).mean()\n",
    "            if acc > best_acc:\n",
    "                best_acc = acc\n",
    "                best_th = th\n",
    "        thresholds[i] = best_th\n",
    "    return thresholds\n",
    "\n",
    "\n",
    "@torch.no_grad()\n",
    "def evaluate_with_thresholds(model, loader, device, thresholds, desc=\"Eval\"):\n",
    "    model.eval()\n",
    "    all_targets, all_probs = [], []\n",
    "    for imgs, labels in tqdm(loader, desc=desc, leave=False):\n",
    "        imgs = imgs.to(device)\n",
    "        outputs = model(imgs)\n",
    "        probs = torch.sigmoid(outputs).cpu().numpy()\n",
    "        all_probs.append(probs)\n",
    "        all_targets.append(labels.numpy())\n",
    "    all_probs = np.vstack(all_probs)\n",
    "    all_targets = np.vstack(all_targets)\n",
    "    preds = (all_probs >= thresholds[None, :]).astype(int)\n",
    "    per_attr_acc = (preds == all_targets).mean(axis=0)\n",
    "    mean_acc = per_attr_acc.mean()\n",
    "    return mean_acc, per_attr_acc"
   ]
  },
  {
   "cell_type": "code",
   "execution_count": 29,
   "id": "28380fcc",
   "metadata": {},
   "outputs": [
    {
     "name": "stdout",
     "output_type": "stream",
     "text": [
      "\n",
      "========== Final Evaluation with Threshold Tuning ==========\n"
     ]
    },
    {
     "name": "stderr",
     "output_type": "stream",
     "text": [
      "                                                                    \r"
     ]
    },
    {
     "name": "stdout",
     "output_type": "stream",
     "text": [
      "Tuned thresholds: [0.42 0.65 0.6  0.47 0.43 0.93 0.58 0.43 0.61 0.55 0.31 0.3  0.95 0.4\n",
      " 0.33 0.61 0.38 0.42 0.26 0.55 0.39 0.49 0.65 0.61 0.55 0.27 0.61 0.51\n",
      " 0.32 0.75 0.74 0.28 0.42 0.37 0.42]\n"
     ]
    },
    {
     "name": "stderr",
     "output_type": "stream",
     "text": [
      "                                                             "
     ]
    },
    {
     "name": "stdout",
     "output_type": "stream",
     "text": [
      "\n",
      "Per-Attribute Accuracies (Train):\n",
      "attractive               : acc=0.9807 (th=0.42)\n",
      "blurry_image             : acc=0.9916 (th=0.65)\n",
      "sharp_jawline            : acc=0.9672 (th=0.60)\n",
      "high_cheekbones          : acc=0.9920 (th=0.47)\n",
      "smiling                  : acc=0.9748 (th=0.43)\n",
      "bald                     : acc=0.9997 (th=0.93)\n",
      "receeding_hairline       : acc=0.9974 (th=0.58)\n",
      "long_hair                : acc=0.9761 (th=0.43)\n",
      "curly_hair               : acc=0.9997 (th=0.61)\n",
      "grey_hair                : acc=0.9968 (th=0.55)\n",
      "black_hair               : acc=0.9851 (th=0.31)\n",
      "has_beard                : acc=0.9937 (th=0.30)\n",
      "patchy_beard             : acc=0.9543 (th=0.95)\n",
      "has_mustache             : acc=0.9945 (th=0.40)\n",
      "well_groomed             : acc=0.9568 (th=0.33)\n",
      "has_makeup               : acc=0.9872 (th=0.61)\n",
      "wearing_glasses          : acc=0.9987 (th=0.38)\n",
      "wearing_hat              : acc=0.9974 (th=0.42)\n",
      "clear_skin               : acc=0.9598 (th=0.26)\n",
      "dark_circles             : acc=0.9831 (th=0.55)\n",
      "oily_skin                : acc=0.9904 (th=0.39)\n",
      "thick_eyebrow            : acc=0.9890 (th=0.49)\n",
      "big_eyes                 : acc=0.9824 (th=0.65)\n",
      "big_lips                 : acc=0.9941 (th=0.61)\n",
      "sharp_nose               : acc=0.9987 (th=0.55)\n",
      "adult                    : acc=0.9871 (th=0.27)\n",
      "old                      : acc=0.9916 (th=0.61)\n",
      "mouth_open               : acc=0.9860 (th=0.51)\n",
      "male                     : acc=0.9954 (th=0.32)\n",
      "double_chin              : acc=0.9937 (th=0.75)\n",
      "veil                     : acc=0.9981 (th=0.74)\n",
      "dry_skin                 : acc=0.9747 (th=0.28)\n",
      "freckle                  : acc=0.9973 (th=0.42)\n",
      "wrinkle                  : acc=0.9966 (th=0.37)\n",
      "chubby                   : acc=0.9909 (th=0.42)\n",
      "\n",
      "Train Mean Accuracy: 0.9872\n",
      "\n",
      "Per-Attribute Accuracies (Val):\n",
      "attractive               : acc=0.8743 (th=0.42)\n",
      "blurry_image             : acc=0.9523 (th=0.65)\n",
      "sharp_jawline            : acc=0.8057 (th=0.60)\n",
      "high_cheekbones          : acc=0.9374 (th=0.47)\n",
      "smiling                  : acc=0.8528 (th=0.43)\n",
      "bald                     : acc=0.9958 (th=0.93)\n",
      "receeding_hairline       : acc=0.9327 (th=0.58)\n",
      "long_hair                : acc=0.8600 (th=0.43)\n",
      "curly_hair               : acc=0.9869 (th=0.61)\n",
      "grey_hair                : acc=0.9535 (th=0.55)\n",
      "black_hair               : acc=0.9392 (th=0.31)\n",
      "has_beard                : acc=0.9511 (th=0.30)\n",
      "patchy_beard             : acc=0.9434 (th=0.95)\n",
      "has_mustache             : acc=0.9595 (th=0.40)\n",
      "well_groomed             : acc=0.7878 (th=0.33)\n",
      "has_makeup               : acc=0.9297 (th=0.61)\n",
      "wearing_glasses          : acc=0.9928 (th=0.38)\n",
      "wearing_hat              : acc=0.9744 (th=0.42)\n",
      "clear_skin               : acc=0.8600 (th=0.26)\n",
      "dark_circles             : acc=0.8856 (th=0.55)\n",
      "oily_skin                : acc=0.8492 (th=0.39)\n",
      "thick_eyebrow            : acc=0.9130 (th=0.49)\n",
      "big_eyes                 : acc=0.8766 (th=0.65)\n",
      "big_lips                 : acc=0.9410 (th=0.61)\n",
      "sharp_nose               : acc=0.9642 (th=0.55)\n",
      "adult                    : acc=0.9571 (th=0.27)\n",
      "old                      : acc=0.8981 (th=0.61)\n",
      "mouth_open               : acc=0.9190 (th=0.51)\n",
      "male                     : acc=0.9654 (th=0.32)\n",
      "double_chin              : acc=0.9648 (th=0.75)\n",
      "veil                     : acc=0.9815 (th=0.74)\n",
      "dry_skin                 : acc=0.8421 (th=0.28)\n",
      "freckle                  : acc=0.9601 (th=0.42)\n",
      "wrinkle                  : acc=0.9273 (th=0.37)\n",
      "chubby                   : acc=0.9094 (th=0.42)\n",
      "\n",
      "Val Mean Accuracy:  0.9212\n",
      "\n",
      "Per-Attribute Accuracies (Test):\n",
      "attractive               : acc=0.8684 (th=0.42)\n",
      "blurry_image             : acc=0.9446 (th=0.65)\n",
      "sharp_jawline            : acc=0.8106 (th=0.60)\n",
      "high_cheekbones          : acc=0.9339 (th=0.47)\n",
      "smiling                  : acc=0.8350 (th=0.43)\n",
      "bald                     : acc=0.9952 (th=0.93)\n",
      "receeding_hairline       : acc=0.9291 (th=0.58)\n",
      "long_hair                : acc=0.8755 (th=0.43)\n",
      "curly_hair               : acc=0.9750 (th=0.61)\n",
      "grey_hair                : acc=0.9559 (th=0.55)\n",
      "black_hair               : acc=0.9339 (th=0.31)\n",
      "has_beard                : acc=0.9440 (th=0.30)\n",
      "patchy_beard             : acc=0.9381 (th=0.95)\n",
      "has_mustache             : acc=0.9500 (th=0.40)\n",
      "well_groomed             : acc=0.7933 (th=0.33)\n",
      "has_makeup               : acc=0.9327 (th=0.61)\n",
      "wearing_glasses          : acc=0.9929 (th=0.38)\n",
      "wearing_hat              : acc=0.9744 (th=0.42)\n",
      "clear_skin               : acc=0.8565 (th=0.26)\n",
      "dark_circles             : acc=0.8737 (th=0.55)\n",
      "oily_skin                : acc=0.8344 (th=0.39)\n",
      "thick_eyebrow            : acc=0.9273 (th=0.49)\n",
      "big_eyes                 : acc=0.8696 (th=0.65)\n",
      "big_lips                 : acc=0.9327 (th=0.61)\n",
      "sharp_nose               : acc=0.9619 (th=0.55)\n",
      "adult                    : acc=0.9434 (th=0.27)\n",
      "old                      : acc=0.9107 (th=0.61)\n",
      "mouth_open               : acc=0.9095 (th=0.51)\n",
      "male                     : acc=0.9631 (th=0.32)\n",
      "double_chin              : acc=0.9553 (th=0.75)\n",
      "veil                     : acc=0.9839 (th=0.74)\n",
      "dry_skin                 : acc=0.8231 (th=0.28)\n",
      "freckle                  : acc=0.9625 (th=0.42)\n",
      "wrinkle                  : acc=0.9095 (th=0.37)\n",
      "chubby                   : acc=0.8928 (th=0.42)\n",
      "\n",
      "Test Mean Accuracy:  0.9169\n"
     ]
    },
    {
     "name": "stderr",
     "output_type": "stream",
     "text": [
      "\r"
     ]
    }
   ],
   "source": [
    "# ======== Load Best Model ========\n",
    "print(\"\\n========== Final Evaluation with Threshold Tuning ==========\")\n",
    "model.load_state_dict(torch.load(MODEL_SAVE_PATH, map_location=device))\n",
    "\n",
    "# Tune thresholds on validation set\n",
    "thresholds = tune_thresholds(model, val_loader, device)\n",
    "print(\"Tuned thresholds:\", np.round(thresholds, 2))\n",
    "\n",
    "# Evaluate on training and test sets using tuned thresholds\n",
    "train_mean_acc, train_per_attr_acc = evaluate_with_thresholds(model, train_loader, device, thresholds, desc=\"Train Eval\")\n",
    "val_mean_acc, val_per_attr_acc = evaluate_with_thresholds(model, val_loader, device, thresholds, desc=\"Val Eval\")\n",
    "test_mean_acc, test_per_attr_acc = evaluate_with_thresholds(model, test_loader, device, thresholds, desc=\"Test Eval\")\n",
    "\n",
    "# ======== Print Results ========\n",
    "print(\"\\nPer-Attribute Accuracies (Train):\")\n",
    "for name, acc, th in zip(ATTRIBUTES, train_per_attr_acc, thresholds):\n",
    "    print(f\"{name:25s}: acc={acc:.4f} (th={th:.2f})\")\n",
    "\n",
    "print(f\"\\nTrain Mean Accuracy: {train_mean_acc:.4f}\")\n",
    "\n",
    "print(\"\\nPer-Attribute Accuracies (Val):\")\n",
    "for name, acc, th in zip(ATTRIBUTES, val_per_attr_acc, thresholds):\n",
    "    print(f\"{name:25s}: acc={acc:.4f} (th={th:.2f})\")\n",
    "\n",
    "print(f\"\\nVal Mean Accuracy:  {val_mean_acc:.4f}\")\n",
    "\n",
    "print(\"\\nPer-Attribute Accuracies (Test):\")\n",
    "for name, acc, th in zip(ATTRIBUTES, test_per_attr_acc, thresholds):\n",
    "    print(f\"{name:25s}: acc={acc:.4f} (th={th:.2f})\")\n",
    "\n",
    "print(f\"\\nTest Mean Accuracy:  {test_mean_acc:.4f}\")"
   ]
  },
  {
   "cell_type": "code",
   "execution_count": 25,
   "id": "614d9207",
   "metadata": {},
   "outputs": [
    {
     "data": {
      "image/png": "[encoded data removed]",
      "text/plain": [
       "<Figure size 1400x600 with 1 Axes>"
      ]
     },
     "metadata": {},
     "output_type": "display_data"
    }
   ],
   "source": [
    "import numpy as np\n",
    "import matplotlib.pyplot as plt\n",
    "\n",
    "x = np.arange(len(ATTRIBUTES))  # label locations\n",
    "width = 0.25  # width of each bar\n",
    "\n",
    "# Create a figure and axes object\n",
    "fig, ax = plt.subplots(figsize=(14, 6))\n",
    "\n",
    "# Bars for train, val, test accuracy\n",
    "bars1 = ax.bar(x - width, train_per_attr_acc, width, label='Train Accuracy', color='red')\n",
    "bars2 = ax.bar(x, val_per_attr_acc, width, label='Val Accuracy', color='green')\n",
    "bars3 = ax.bar(x + width, test_per_attr_acc, width, label='Test Accuracy', color='blue')\n",
    "\n",
    "\n",
    "# Labels and formatting\n",
    "ax.set_xticks(x)\n",
    "ax.set_xticklabels(ATTRIBUTES, rotation=90)\n",
    "ax.set_ylabel(\"Accuracy\")\n",
    "ax.set_ylim(0, 1.05)\n",
    "ax.set_title(\"Per-Attribute Train, Validation & Test Accuracy\")\n",
    "ax.legend()\n",
    "ax.grid(axis='y', linestyle='--', alpha=0.7)\n",
    "\n",
    "plt.tight_layout()\n",
    "plt.show()"
   ]
  }
 ],
 "metadata": {
  "kernelspec": {
   "display_name": "Python 3",
   "language": "python",
   "name": "python3"
  },
  "language_info": {
   "codemirror_mode": {
    "name": "ipython",
    "version": 3
   },
   "file_extension": ".py",
   "mimetype": "text/x-python",
   "name": "python",
   "nbconvert_exporter": "python",
   "pygments_lexer": "ipython3",
   "version": "3.10.0"
  }
 },
 "nbformat": 4,
 "nbformat_minor": 5
}
